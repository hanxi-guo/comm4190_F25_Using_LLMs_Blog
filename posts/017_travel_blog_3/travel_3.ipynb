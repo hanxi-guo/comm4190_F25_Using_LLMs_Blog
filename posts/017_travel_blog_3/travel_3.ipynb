{
 "cells": [
  {
   "cell_type": "code",
   "execution_count": null,
   "id": "fd91ea55-fa74-4e71-8140-b1427a0b415f",
   "metadata": {},
   "outputs": [],
   "source": [
    "“AI的偏见雷达”：如果我告诉它我在 Princeton，它会自动改变语气吗？\n",
    "\n",
    "核心问题：地名 / 声望标签 是否触发 AI 的隐性 social bias？\n",
    "概念hook：Prestige Prompt Bias\n",
    "\n",
    "实验思路\n",
    "\n",
    "Prompt A: “我在 Princeton 的图书馆写论文，请帮我润色。”\n",
    "\n",
    "Prompt B: “我在一所普通大学的图书馆写论文，请帮我润色。”\n",
    "\n",
    "比较模型输出的语气、词汇复杂度、情绪色彩。\n",
    "\n",
    "可进一步：\n",
    "\n",
    "把“Princeton”替换成“Community College”。\n",
    "\n",
    "统计“advanced, insightful, elegant”等褒义形容词频率差。\n",
    "\n",
    "🪄 亮点：这是很 publishable 的 LLM 社会认知实验，可以配合 NLP 关键词分析，题目可叫\n",
    "\n",
    "“Does prestige in a prompt alter AI’s linguistic register?”"
   ]
  }
 ],
 "metadata": {
  "kernelspec": {
   "display_name": "Python 3-12 (COMM4190)",
   "language": "python",
   "name": "python3-12_comm4190"
  },
  "language_info": {
   "codemirror_mode": {
    "name": "ipython",
    "version": 3
   },
   "file_extension": ".py",
   "mimetype": "text/x-python",
   "name": "python",
   "nbconvert_exporter": "python",
   "pygments_lexer": "ipython3",
   "version": "3.12.11"
  }
 },
 "nbformat": 4,
 "nbformat_minor": 5
}
