{
 "cells": [
  {
   "cell_type": "raw",
   "id": "29669591-aade-4852-8772-bee35d953d7c",
   "metadata": {},
   "source": [
    "---\n",
    "title: \"What happens when AI handles your checkout?\"\n",
    "description: \"If your checkout screen suddenly spoke to you, would you feel safer, or more pressured?\" \n",
    "author: \"Hanxi\"\n",
    "date: \"10/03/2025\"\n",
    "categories:\n",
    "  - LLMs\n",
    "  - prompting\n",
    "  - reflection\n",
    "  - Psychology\n",
    "  - News\n",
    "draft: true\n",
    "---"
   ]
  },
  {
   "cell_type": "markdown",
   "id": "89e677d8-c8e9-4c89-8e9c-58bae15d771c",
   "metadata": {},
   "source": [
    "Recently, OpenAI released a new feature in ChatGPT called Instant Checkout. In theory, it lets you buy something without ever leaving the chat.  The funtcion is sound futuristic enough: why open another tab when you can let an AI handle your wallet for you?  But this the kind of feature is also slightly unsettling, like a friend who remembers your credit card number a little too well.\n",
    "\n",
    "So I decided to run a small experiment. I wasn’t trying to test how efficient it was. What I really wanted to see was how human it felt. Would this feature truly create a better shopping experience, or would it simply turn us into better trained consumers who spend money faster?\n",
    "\n",
    "> Disclaimer: This piece is not an endorsement of any product or platform.  The experiment described below is based on OpenAI/ChatGPT-5 and is small, informal test exploring how communication style affects human–AI interaction during checkout"
   ]
  },
  {
   "cell_type": "markdown",
   "id": "62c91bf2-f484-4d82-ab84-1eee8061f3b5",
   "metadata": {},
   "source": [
    "# Experiment\n",
    "\n",
    "## A. Form-based:\n",
    "\n",
    "Prompt: "
   ]
  },
  {
   "cell_type": "code",
   "execution_count": null,
   "id": "3d46f062-f93f-4da1-8f0e-8dc0acebaaf7",
   "metadata": {},
   "outputs": [],
   "source": []
  },
  {
   "cell_type": "code",
   "execution_count": null,
   "id": "e4f49fb1-a563-442f-83d2-ff86b3e00d55",
   "metadata": {},
   "outputs": [],
   "source": []
  },
  {
   "cell_type": "code",
   "execution_count": null,
   "id": "0eb028f4-21d8-4c21-aa16-c063074b4fb0",
   "metadata": {},
   "outputs": [],
   "source": []
  },
  {
   "cell_type": "code",
   "execution_count": null,
   "id": "6ce25c6d-81cf-4ffa-8d96-4ebfd2ec9c01",
   "metadata": {},
   "outputs": [],
   "source": []
  }
 ],
 "metadata": {
  "kernelspec": {
   "display_name": "Python 3-12 (COMM4190)",
   "language": "python",
   "name": "python3-12_comm4190"
  },
  "language_info": {
   "codemirror_mode": {
    "name": "ipython",
    "version": 3
   },
   "file_extension": ".py",
   "mimetype": "text/x-python",
   "name": "python",
   "nbconvert_exporter": "python",
   "pygments_lexer": "ipython3",
   "version": "3.12.11"
  }
 },
 "nbformat": 4,
 "nbformat_minor": 5
}
