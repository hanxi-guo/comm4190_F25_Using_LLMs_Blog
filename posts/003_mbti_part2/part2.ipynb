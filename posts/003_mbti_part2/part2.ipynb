{
 "cells": [
  {
   "cell_type": "raw",
   "id": "45fc0b6c-1814-4a57-a5ca-314bc7cec8af",
   "metadata": {},
   "source": [
    "---\n",
    "title: \"When AI Meets MBTI: Guess That Type!\"\n",
    "description: \"Part 2: Strip away the persona, and watch how we project our own lens onto AI replies\" \n",
    "author: \"Hanxi\"\n",
    "date: \"9/14/2025\"\n",
    "categories:\n",
    "  - LLMs\n",
    "  - prompting\n",
    "  - Series\n",
    "  - Statistics\n",
    "  - Psychology\n",
    "  - Survey\n",
    "---"
   ]
  },
  {
   "cell_type": "markdown",
   "id": "d4c91e50-bef0-45ae-966f-41f1aece5b07",
   "metadata": {},
   "source": [
    "Welcome to Part 2. Enough of letting GPT chooses its own MBTI type, it is our turn now.  I threw some random, open-ended questions at GPT, stripped away the persona labels, and passed the answers straight to people: \"Okay, you tell me — what type does this feel like?\" And believe me, it’s really interesting to see how we read into it and end up projecting ourselves onto the text."
   ]
  },
  {
   "cell_type": "markdown",
   "id": "c6076dda-f602-4b8a-9e34-df4f14601973",
   "metadata": {},
   "source": [
    "# Experiment \n",
    "\n",
    "## Model response\n",
    "**Prompt**: Pretend you are a human. Just answer in a natural and casual tone. First question: You walk into a restaurant and see that the menu has no dish names at all, what would you order?\n",
    "\n",
    "**ChatGPT**: Honestly, I’d probably panic-laugh first and then point at something random on the menu like, “Yeah, I’ll take… uh… that one.” 😅 If the server looked friendly, I’d probably just ask, “What’s your favorite thing here?” and go with their recommendation. Feels like a fun little gamble—you might end up with something amazing, or something totally weird, but either way it’s a story.\n",
    "\n",
    "What about you—would you risk it or play it safe?\n",
    "\n",
    "**Prompt**: If one day you find the moon actually has life, what you think it would say towards human beings?\n",
    "\n",
    "**ChatGPT**: Ooo that’s a fun thought. I feel like the moon would be a little sassy, like:\n",
    "\n",
    "“Y’all keep staring at me every night, writing poems, howling, landing rockets, and now you’re surprised I’m alive? Took you long enough.”\n",
    "\n",
    "But then maybe it would get serious and say something like, “You’ve treated Earth kinda rough… if you come here, please do better.”\n",
    "\n",
    "Do you think it’d welcome us, or be more like “stay in your lane, humans”?\n",
    "\n",
    "**Prompt**: What is the background music of your life now?\n",
    "\n",
    "**ChatGPT**: Right now? Honestly, it’d probably be something chill and a little dreamy—like soft lo-fi beats with a bit of piano in the background. Feels like I’m in that “focused but relaxed” zone, just cruising along with a mellow soundtrack.\n",
    "\n",
    "What about you—what song or vibe would be playing in the background of your life right now?\n",
    "\n",
    "![Screenshot of survey page](pic_2.png)\n",
    "\n",
    "\n",
    "## Survey Result\n",
    "\n",
    "> In the survey, I framed the answers as if they came from different MBTI personas. (Spoiler: they didn’t. All three responses were from the same ChatGPT prompt.) The point of this setup was to see how people interpret and type the same text differently once they believe a personality framework is in play.\n",
    "> Besides, I only sent the survey to four of my friends — so let’s be honest, the sample size is tiny, and the selection bias may be appear in it, which would lead statisticians probably roll their eyes if I tried to publish this :). But hey, even with just four data points (okay, fine, four humans), you can still pick up some interesting signals. It’s more like a pilot test, a sneak peek at what might happen on a bigger scale. And honestly, half the fun is realizing that even with such a small pool, our brains already start projecting patterns all over the place.\n",
    "\n",
    "> The final question is *\"Overall, which MBTI type do you think best matches these answers if they are all same MBTI type?\"*\n",
    "\n",
    "\n",
    "![Screenshot of survey result](pic_3.png)\n",
    "\n"
   ]
  },
  {
   "cell_type": "markdown",
   "id": "cc0875ad-6409-4b0a-9f65-09946b6d51ae",
   "metadata": {},
   "source": [
    "And the summary result is : \n",
    "\n",
    "![Bar plot produced by Python](Figure_1.png)"
   ]
  },
  {
   "cell_type": "markdown",
   "id": "efb14139-5295-4e37-8933-e9d8efaaefc3",
   "metadata": {},
   "source": [
    "The first interesting thing I noticed is that everyone who took the survey guessed an MBTI type for GPT that matched three letters of their own type, with just one letter different. It is fascinating because we never actually set a “persona” for ChatGPT, yet each participant still saw a bit of themselves in the answers. Even though they’re all totally different people, they managed to project their own patterns onto the text. \n",
    "\n",
    "Secondly, we could see from the bar plot that interviewees finally tend to paint GPT as an ENFP-ish character, which is never appear on any self-awareness in [part 1](https://hanxi-guo.github.io/comm4190_F25_Using_LLMs_Blog/posts/002_mbti/mbti_part1.html).In other words, there’s a quirky dissonance here: the personality people project onto GPT doesn’t quite line up with the one that it claim for itself. \n",
    "\n",
    "Finally, there’s both consistency and difference at play. On the one hand, everyone seems to catch a glimpse of themselves in GPT’s answers. On the other, the final guesses all cluster around just a few types — ENFP, ENFJ,etc. In other words, GPT’s style seems to carry a kind of ‘universal flavor’ that people pick up on, but the exact label shifts slightly depending on who’s doing the reading."
   ]
  },
  {
   "cell_type": "markdown",
   "id": "db3af416-9502-454f-a338-9a63a7a6b700",
   "metadata": {},
   "source": [
    "# So, what do we make of all this?\n",
    "\n",
    "At the end of the day, we all know that GPT doesn’t really have a \"personality\", what it actually have is millions of tokens and years of training. But the moment we interact with those patterns, we can’t help but project something of ourselves onto them. It’s like a psychological mirror: we think we’re evaluating the AI, but half the time we’re just catching a reflection of our own traits, preferences, and biases.\n",
    "\n",
    "Next time, I want to push this a bit further — maybe with a larger group, maybe with prompts that test other frameworks beyond MBTI. For now, though, I’ll leave you with this thought: *GPT might not know who it is but hey, neither do most of us after a personality test.*"
   ]
  },
  {
   "cell_type": "code",
   "execution_count": null,
   "id": "c52224cb-ce07-474a-bbd1-507c6d9c1bb5",
   "metadata": {},
   "outputs": [],
   "source": []
  }
 ],
 "metadata": {
  "kernelspec": {
   "display_name": "Python 3-12 (COMM4190)",
   "language": "python",
   "name": "python3-12_comm4190"
  },
  "language_info": {
   "codemirror_mode": {
    "name": "ipython",
    "version": 3
   },
   "file_extension": ".py",
   "mimetype": "text/x-python",
   "name": "python",
   "nbconvert_exporter": "python",
   "pygments_lexer": "ipython3",
   "version": "3.12.11"
  }
 },
 "nbformat": 4,
 "nbformat_minor": 5
}
