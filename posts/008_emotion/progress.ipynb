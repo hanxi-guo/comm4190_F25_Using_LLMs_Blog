{
 "cells": [
  {
   "cell_type": "raw",
   "id": "59efdfc2-3670-4ef8-864c-32da7fef9725",
   "metadata": {},
   "source": [
    "---\n",
    "title: \"Debate: Do humans need a “likability progress bar”? \"\n",
    "description: \"Part 4: Are you happiest with a complementary AI therapist… or an identical AI chaos buddy?\" \n",
    "author: \"Hanxi\"\n",
    "date: \"9/24/2025\"\n",
    "categories:\n",
    "  - LLMs\n",
    "  - prompting\n",
    "  - Series\n",
    "  - Psychology\n",
    "  - Survey\n",
    "---"
   ]
  }
 ],
 "metadata": {
  "kernelspec": {
   "display_name": "Python 3-12 (COMM4190)",
   "language": "python",
   "name": "python3-12_comm4190"
  },
  "language_info": {
   "codemirror_mode": {
    "name": "ipython",
    "version": 3
   },
   "file_extension": ".py",
   "mimetype": "text/x-python",
   "name": "python",
   "nbconvert_exporter": "python",
   "pygments_lexer": "ipython3",
   "version": "3.12.11"
  }
 },
 "nbformat": 4,
 "nbformat_minor": 5
}
