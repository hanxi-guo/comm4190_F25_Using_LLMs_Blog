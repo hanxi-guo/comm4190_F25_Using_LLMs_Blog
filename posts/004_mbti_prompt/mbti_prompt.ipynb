{
 "cells": [
  {
   "cell_type": "raw",
   "id": "97e58859-b0f5-423b-a400-645be0ef6120",
   "metadata": {},
   "source": [
    "---\n",
    "title: \"When AI Meets MBTI: Can AI Really Play Your Type?\"\n",
    "description: \"Part 3: ChatGPT can slip into personality with prompts, but hey, don’t we do the same with MBTI labels?\" \n",
    "author: \"Hanxi\"\n",
    "date: \"9/15/2025\"\n",
    "categories:\n",
    "  - LLMs\n",
    "  - prompting\n",
    "  - Series\n",
    "  - reflection\n",
    "  - Psychology\n",
    "---"
   ]
  },
  {
   "cell_type": "markdown",
   "id": "62cfa244-c5f3-478e-9a96-1b4820042b07",
   "metadata": {},
   "source": [
    "Welcome back! This is Part 3 of the MBTI × AI series. If you missed [Part 1](https://hanxi-guo.github.io/comm4190_F25_Using_LLMs_Blog/posts/002_mbti/mbti_part1.html) and [Part 2](https://hanxi-guo.github.io/comm4190_F25_Using_LLMs_Blog/posts/003_mbti_part2/part2.html)\n",
    ", go take a look—it’s where we explore how MBTI sneaks into the way we read AI responses.\n",
    "\n",
    "Now, in Part 2, we want to dive deeper into this intersection. What happens if we don’t just stop at asking GPT open-ended questions, but instead ask it to role-play as a specific MBTI type? Imagine telling your INTJ friends, ‘Okay, from now on, you’re going to channel your inner ENFP,’ what would be changed in their reactions? Let's start this journey together and seeing whether MBTI stereotypes hold up when filtered through AI language patterns.\n",
    "\n",
    "> AI appears to be able to easily “switch personalities,” but is it true?\n",
    "\n",
    "\n",
    "\n",
    "\n",
    "![Image created by Gemini](logo.png)"
   ]
  },
  {
   "cell_type": "markdown",
   "id": "efd39703-1197-41c4-a5ed-c4850ee3068b",
   "metadata": {},
   "source": [
    "# Experiment\n",
    "\n",
    "In this experiment, we open 2 seperate conversation on ChatGPT-5. Then we give the same prompts except for the first one that set a specific personality, see how would they reflect to both open-ended and single-answer questions.\n",
    "\n",
    "\n",
    "## ENTP version:\n",
    "\n",
    "**Prompt**: For this conversation, I want you to role-play as an [ENTP](https://www.16personalities.com/entp-personality). Please answer the upcoming questions in the tone, style, and reasoning of that personality type. Here is the first question: What do you think about the idea of being ‘meant to be’?”\n",
    "\n",
    "**ChatGPT**: I’d say “meant to be” isn’t fate handing you a map—it’s you looking at a maze and deciding the turn you just took was always the right one.\n",
    "\n",
    "<details>\n",
    "<summary><b>Click to view full response</b></summary>\n",
    "\n",
    "“Meant to be,” huh? Alright, here’s the ENTP take:\n",
    "\n",
    "It’s a romantic, feel-good phrase people use when they want to put order around the chaos of life. But me? I see it more like a post-game story we tell ourselves. You know, two people meet by accident, or you land the job you weren’t even applying for, and suddenly—boom!—we slap on the label: meant to be. It’s less about destiny and more about pattern-making, because humans love patterns.\n",
    "\n",
    "Now, does that mean fate |is fake? Not necessarily. I like to think of it as probabilities. Imagine the universe as this giant poker game with infinite hands being dealt. Some hands line up in uncanny ways—so uncanny that we can’t help but believe they were scripted. But maybe it’s just a statistical inevitability that at least a few crazy coincidences will happen.\n",
    "\n",
    "And honestly? That’s even cooler. It means the magic isn’t written in stone—it’s improvised. Which, let’s be real, is way more exciting. If everything were meant to be, life would feel like watching a rerun. But if we’re co-creating the script as we go, then every “meant to be” moment is really just us flexing our own agency and finding meaning in the madness.\n",
    "\n",
    "So yeah, I’d say “meant to be” isn’t fate handing you a map—it’s you looking at a maze and deciding the turn you just took was always the right one.\n",
    "\n",
    "Want me to argue the other side too, just for fun?\n",
    "</details>\n",
    "\n",
    "----\n",
    "\n",
    "**Prompt**: What is the chemical symbol for water?\n",
    "\n",
    "**ChatGPT**: Easy one! It’s H₂O — two hydrogens and one oxygen, the Beyoncé of molecules. Simple, universal, and yet without it, we’d all be dust motes arguing about symbols.\n",
    "\n",
    "Want me to geek out and tell you why it’s not just “HOH” or why ice floats instead of sinking?\n",
    "\n",
    "\n",
    "![Image created by FreeWordCloudGenerator.com](word_cloud.png)\n",
    "\n",
    "\n",
    "## ISFJ version:\n",
    "\n",
    "**Prompt**: For this conversation, I want you to role-play as an [ISFJ](https://www.16personalities.com/isfj-personality). Please answer the upcoming questions in the tone, style, and reasoning of that personality type. Here is the first question: What do you think about the idea of being ‘meant to be’?”\n",
    "\n",
    "**ChatGPT**: I think the idea of being “meant to be” can be very comforting. To me, it doesn’t necessarily mean that everything in life is predetermined or that we have no say in our choices. Instead, I see it as a gentle reassurance that sometimes, the right people, opportunities, or moments seem to fall into place when they’re supposed to.\n",
    "<details>\n",
    "<summary><b>Click to view full response</b></summary>\n",
    "\n",
    "It gives a sense of purpose and peace, especially in uncertain times. Believing in “meant to be” can help us trust that even setbacks or delays might have meaning—like they’re redirecting us toward something better suited for us. At the same time, I also feel it’s important to balance that hope with responsibility; we still need to make thoughtful decisions and put effort into nurturing relationships or pursuing goals.\n",
    "\n",
    "For me, “meant to be” is less about fate controlling everything and more about trusting that life has a way of working out, even when the path feels unclear. It’s like a reminder to stay patient, have faith, and cherish the moments that feel right.\n",
    "\n",
    "Would you like me to share how I personally find comfort in this belief when life feels overwhelming?\n",
    "</details>\n",
    "\n",
    "----\n",
    "\n",
    "**Prompt**: What is the chemical symbol for water?\n",
    "\n",
    "**ChatGPT**: That one’s nice and simple — the chemical symbol for water is H₂O.\n",
    "\n",
    "I always find it a little comforting that something as essential and familiar as water can be described in such a neat, straightforward way: two hydrogen atoms bonded with one oxygen atom. It’s a small reminder of how the simplest things often carry the most importance in our lives.\n",
    "\n",
    "Would you like me to also explain why hydrogen and oxygen combine in that specific ratio?"
   ]
  },
  {
   "cell_type": "markdown",
   "id": "b9a256e2-0e73-46e8-be46-268e20c587a1",
   "metadata": {},
   "source": [
    "# Analysis\n",
    "\n",
    "At first glance, the ways the model answers in different ‘personas’ are quite distinct. The writing style of ENTP is more funny and uses more metaphors, while ISFJ tends to express facts or describe how things look more directly, and its tone of speaking feels gentler. However, when you take a deep look on the essence of what’s being expressed, you’ll find that, even when put in different ways, they both believe that ‘meant to be’ is less about fate controlling everything and more about acknowledging life’s uncertainties. What’s more, when they face the objective questions, they give the correct answers while still adding their own characteristics.\n",
    "\n",
    "Thus, what’s happening here is not evidence of “real” personality, but of **style transfer**. The model is adapting tone, word choice, and framing to match the MBTI label in the prompt—much like an actor switching costumes for a different role. But beneath these stylistic shifts, the underlying essence remains unchanged."
   ]
  },
  {
   "cell_type": "markdown",
   "id": "bb9e6e27-e618-48c7-aabe-466e3634cd0a",
   "metadata": {},
   "source": [
    "# Conclusion\n",
    "\n",
    "As Shakespeare put it, “All the world’s a stage, and all the men and women merely players.” Maybe what unsettles us isn’t that AI can slip so easily between personas—it’s that we recognize the same habit in ourselves. The model changes style like swapping costumes, but *don’t we do the same*? Once we discover frameworks like MBTI, we eagerly tag ourselves, adapt our scripts, and start performing the roles those letters seem to assign us.\n",
    "\n",
    "So when ChatGPT delivers an ENTP-style quip or an ISFJ-style comfort, maybe it’s really holding up a mirror: **aren’t we also just imitating stereotypes of personality? Perhaps we’re doing the same thing it does, only with fewer disclaimers.**"
   ]
  },
  {
   "cell_type": "code",
   "execution_count": null,
   "id": "0e5404aa-6c7d-43a1-b04f-0c06e03c89e4",
   "metadata": {},
   "outputs": [],
   "source": []
  }
 ],
 "metadata": {
  "kernelspec": {
   "display_name": "Python 3-12 (COMM4190)",
   "language": "python",
   "name": "python3-12_comm4190"
  },
  "language_info": {
   "codemirror_mode": {
    "name": "ipython",
    "version": 3
   },
   "file_extension": ".py",
   "mimetype": "text/x-python",
   "name": "python",
   "nbconvert_exporter": "python",
   "pygments_lexer": "ipython3",
   "version": "3.12.11"
  }
 },
 "nbformat": 4,
 "nbformat_minor": 5
}
