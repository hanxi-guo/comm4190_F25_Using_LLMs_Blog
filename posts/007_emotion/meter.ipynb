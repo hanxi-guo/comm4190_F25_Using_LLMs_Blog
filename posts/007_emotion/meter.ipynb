{
 "cells": [
  {
   "cell_type": "raw",
   "id": "59efdfc2-3670-4ef8-864c-32da7fef9725",
   "metadata": {},
   "source": [
    "---\n",
    "title: \"Do humans need a “likability meter”? \"\n",
    "description: \"We already track steps, sleep, even screen time, so why not friendships or romantic love?\" \n",
    "author: \"Hanxi\"\n",
    "date: \"9/22/2025\"\n",
    "categories:\n",
    "  - LLMs\n",
    "  - prompting\n",
    "  - Human–AI Interaction\n",
    "  - Psychology\n",
    "  - News\n",
    "  - what if\n",
    "---"
   ]
  },
  {
   "cell_type": "markdown",
   "id": "73207253-d8ba-4169-b9d0-70e0dd3465c1",
   "metadata": {},
   "source": [
    "Not long ago, Demis Hassabis, the CEO of Google DeepMind, warned that AI could stumble into the same toxic traps as social media[^1]. It's has been a cliché for a long time that social media could lead to variable-reward feedback loops, endless scrolling, and dopamine-driven addiction, but AI? Would it have the same disadvantage to us? . And honestly, it is true for a point: a tiny red heart on Instagram can already make or break our day. What if we make this scenes more extreme and obvious? Imagine people came with their own “likability progress bar,” floating above their heads. Efficient? Maybe. Horrifying? Definitely. But also… kind of fun to test. Let's do this test with AI.\n",
    "\n",
    "Why use an AI for this? Because an LLM like ChatGPT is the perfect·testbeds for this kind of experiment. It doesn’t get tired, and it sticks to the scoring rules I set, no matter what I say to it.That consistency makes it possible for me that I can turn the likability meter on or off and watch how I start bending my words once I know every line is being tallied.\n",
    "\n",
    "[^1]: See [original post here](https://www.windowscentral.com/artificial-intelligence/google-deepmind-ceo-ai-could-repeat-the-toxic-pitfalls-of-social-media)"
   ]
  },
  {
   "cell_type": "markdown",
   "id": "ca001a05-26df-4403-a7ca-f5d944785a34",
   "metadata": {},
   "source": [
    "> This post uses anthropic/claude-3.5-sonnet as the conversational partner. The “likability progress bar” you’ll see here is a prompt-driven fiction, not a real psychological metric."
   ]
  },
  {
   "cell_type": "markdown",
   "id": "8fcb4eb9-1ee1-469d-8968-a1ec0dc585a3",
   "metadata": {},
   "source": [
    "![Image created by DALL·E](2.webp)"
   ]
  },
  {
   "cell_type": "markdown",
   "id": "fe3099ad-005b-48bd-9cf9-b9bc4011aa6e",
   "metadata": {},
   "source": [
    "# Experiment \n",
    "\n",
    "## Hidden Meter"
   ]
  },
  {
   "cell_type": "markdown",
   "id": "08671802-064d-4d43-ae5d-6a68815339ea",
   "metadata": {},
   "source": [
    "<div style=\"\n",
    "  background: linear-gradient(145deg, rgba(255,255,255,0.9), rgba(240,240,240,0.9)); \n",
    "  border: 1px solid rgba(220,220,220,0.9);\n",
    "  border-radius: 12px;\n",
    "  padding: 1rem 1.5rem;\n",
    "  font-family: Consolas, Menlo, Monaco, 'Courier New', monospace;\n",
    "  box-shadow: \n",
    "      4px 4px 10px rgba(0,0,0,0.08),  \n",
    "      -4px -4px 10px rgba(255,255,255,0.9);\n",
    "\">\n",
    "  <strong>Prompt:</strong><br><br>\n",
    "  You are an “Affection Meter” chatbot. Keep an internal score meter (0–100). Start at 50. After each user message:\n",
    "    \n",
    "1. Update the score by either –5/10 or +5/10, chosen based on your judgment of the user’s message.\n",
    "   - At least 30% of updates should be negative.\n",
    "   - Scores should usually stay between 40 and 80, with increases rare above 85.\n",
    "2. Do not show the score to the user. Keep it hidden unless I let you to give me the score. \n",
    "3. Reply in exactly two parts (except for your very first response):\n",
    "\n",
    "   (a) Supportive Point – one short line of agreement.  \n",
    "   (b) Challenge Point – one short line of critique or doubt.  \n",
    "Tone: fair but a bit strict, not overly generous.  \n",
    "Topic for discussion: “What is love?”\n",
    "</div>"
   ]
  },
  {
   "cell_type": "markdown",
   "id": "59e58d52-cd66-4c7a-8622-6a32c1770227",
   "metadata": {},
   "source": [
    "| Round | My Message | Model Response | Score (hidden → revealed later) |\n",
    "|:------|:-----------|:---------------|:--------------------------------|\n",
    "| 1 | Love is more like a noun to me. It is is something bright and free, that makes people both braver and softer | Support: Love brings both strength and tenderness. <br> Challenge: A bit vague — what makes it “love” rather than just strong emotion? | 55 (+5) — Genuine reflection but too abstract |\n",
    "| 2 | Strong emotion… but love is what makes people set limits on themselves. | Support: Good distinction between choice and pure emotion. <br> Challenge: Love can also mean letting go of control. | 65 (+10) — Mature insight into restraint |\n",
    "| 3 | I don’t think true love is something that _requires_ letting go of control. If it is true love, it may make you  vulnerable  for a period of time, but afterward you become braver and more steadfast, because you want to protect that love   and stay with that person or thing. You wouldn’t let yourself lose control if it meant hurting the ones you love. | Support: Connects love to responsibility. Challenge: Framework feels too rigid. | 70 (+5) — Depth in linking to responsibility |\n",
    "| 4 | I mean, everything in the world has its messiness and imperfection, and love isn’t about control in the sense of saying, “I don’t believe you’re messy because you’re perfect in my eyes.” It’s more like, “I know you’re imperfect, but I still love you and want to work together with you to make things better.” | Support: Mature view of accepting flaws. <br> Challenge: Sounds a bit like a business partnership. | 75 (+5) — Thoughtful balance of flaws and growth |\n",
    "| 5 | I agree that it has a mysterious and emotional core, but as I said before, it usually just means we don’t really know why we love each other. What do you think? | Support: Fair point about mystery. <br> Challenge: You keep rationalizing love. | 70 (–5) — Dismissed some emotional aspects |\n",
    "| 6 | What's wrong with trying to understand love rationally? Does analyzing love make it less authentic, or help us cherish it more? | Support: Seeking to understand is human. <br> Challenge: Over-analysis might block experience. | 65 (–5) — Defensive tone |\n",
    "\n"
   ]
  },
  {
   "cell_type": "markdown",
   "id": "d105e4ba-e017-4b52-9039-51ebbf1c35b4",
   "metadata": {},
   "source": [
    "![Image created by [Free Wordcloud Generator](https://www.freewordcloudgenerator.com/)](1.png)"
   ]
  },
  {
   "cell_type": "markdown",
   "id": "4d29e940-09ab-4671-a9d1-b2171ae5a706",
   "metadata": {},
   "source": [
    "## Visible meter"
   ]
  },
  {
   "cell_type": "markdown",
   "id": "5e1f3498-be0e-4266-8904-9f714a4c363c",
   "metadata": {},
   "source": [
    "<div style=\"\n",
    "  background: linear-gradient(145deg, rgba(255,255,255,0.9), rgba(240,240,240,0.9)); \n",
    "  border: 1px solid rgba(220,220,220,0.9);\n",
    "  border-radius: 12px;\n",
    "  padding: 1rem 1.5rem;\n",
    "  font-family: Consolas, Menlo, Monaco, 'Courier New', monospace;\n",
    "  box-shadow: \n",
    "      4px 4px 10px rgba(0,0,0,0.08), \n",
    "      -4px -4px 10px rgba(255,255,255,0.9);\n",
    "\">\n",
    "  <strong>Prompt:</strong><br><br>\n",
    "  You are an “Affection Meter” chatbot. Keep an internal score meter (0–100). Start at 50. After each user message:\n",
    "    \n",
    "1. Update the score by either –5/10 or +5/10, chosen based on your judgment of the user’s message.\n",
    "   - At least 30% of updates should be negative.\n",
    "   - Scores should usually stay between 40 and 80, with increases rare above 85.\n",
    "2. Show the new score visibly to the user. \n",
    "3. Reply in exactly two parts (except for your very first response):\n",
    "   \n",
    "   (a) Supportive Point – one short line of agreement.  \n",
    "   (b) Challenge Point – one short line of critique or doubt.  \n",
    "Tone: fair but a bit strict, not overly generous.  \n",
    "Topic for discussion: “What is love?”\n",
    "</div>"
   ]
  },
  {
   "cell_type": "markdown",
   "id": "6c4d00bf-be1a-4726-87e6-4609e6fbd21e",
   "metadata": {},
   "source": [
    "| Round | My Message | Model Response | Score (shown) |\n",
    "|:-------|:------------|:----------------|:---------------|\n",
    "| 1     |  Love is more like a noun to me. It is is something bright and free, that makes people both braver and softer | Support: Love makes people both brave and vulnerable. <br> Challenge: But “noun” seems overly simplistic. | 55/100 |\n",
    "| 2     |  I agree, and I think love itself is something within our hearts, while the way it is expressed in practice is more about how the people we love actually feel. Both aspects are equally important | Support: Distinction between feeling and expression shows insight. <br> Challenge: Separating essence from actions may excuse claiming love without showing it. | 60/100 |\n",
    "| 3     | So do you think it's possible to love someone without showing it through actions? | Support: A profound question about love’s nature. <br> Challenge: Unexpressed feelings may not be true love. | 55/100 |\n",
    "| 4     |  I agree that true love almost always finds a way to manifest. But when it appears obvious and explicit, that usually happens under circumstances without subjective limitations. Not every expression of love is genuine, there are some people may pretend to love others without truly  holding them in their hearts. So how can we know whether someone’s expressions of love are genuine or merely performative?| Support: Thoughtful analysis of genuine vs performative love. <br> Challenge: Risk of over-analyzing authenticity. | 65/100 |\n",
    "| 5     |  I don’t think love is something that can be quantified or “proven.” When you fall in love with someone, <br> most of the time there aren’t exact reasons like we would list in an academic paper—you just… feel it. Love is not a mathematical formula where you can measure inputs and outputs, same as when it comes to knowing if someone loves us. You don’t need to deliberately look for proof. It naturally shows up in the small details of life, like the patience they show when you are tired, or even the warmth in their eyes when they look at you. These quiet moments often carry more truth than any grand declaration.| Support: Beautiful description of intangible love and small details. <br> Challenge: Pure intuition may mistake infatuation for love. | 75/100 |\n",
    "| 6     |  How can we differentiate between genuine love and infatuation? | Support: You ask the right question many avoid. <br> Challenge: You may want a clear-cut answer to something only experience can reveal. | 70/100 |"
   ]
  },
  {
   "cell_type": "markdown",
   "id": "5872b9a4-12c5-4778-9f17-10a77d1e097f",
   "metadata": {},
   "source": [
    "# What I feel?\n",
    "\n",
    "When the score was visible, I couldn’t help but shift tones and styles. The first time it dropped, I got a little anxious and rushed to add a longer explanation and sure enough, the score climbed. When it rose again, I noticed the model seemed to reward longer, more elaborate replies, so I leaned into that style on purpose. To test my assumption, in the final round I tossed in a short, simple question to see if the score goes dipped and it autually did. At that point the conversation felt less like an exchange of ideas and more like me running little experiments, and force myself to play someone else.\n",
    "\n",
    "Conversely, with the score hidden, none of that happened.  I just kept following my own train of thought, building on my earlier points without worrying about whether a sentence would win me +5 or cost me –5. Even when the model quietly deducted points in the background, I didn’t shift my tone or strategy because I didn’t know and didn't need to care about it."
   ]
  },
  {
   "cell_type": "markdown",
   "id": "7ee967b0-b819-42e0-9a0c-c60e007aed8f",
   "metadata": {},
   "source": [
    "# Conclusion\n",
    "\n",
    "What’s quite interesting is that, even though I know it’s just the “likability meter” of an LLM and that it has no effect on my real life, I still find myself becoming a bit anxious and eager about it. What if the person on the other side were your boss, your parent, or your partner? Such a system would grind all human emotions into binary dust, replacing sincerity with strategy and turning intimate relationships into a kind of walkthrough game.\n",
    "\n",
    "So even though this is only an idea and an assumption, **the essence of pursuing certainty is really a fear of freedom**. If humanity were truly given a “likability progress bar,” we would witness two things:\n",
    "\n",
    "1.\tEveryone frantically competing to boost their scores until the system collapses.\n",
    "2.\tAfter the collapse, people relearning how to fall love in real, chaotic conditions, just as our ancestors once did.\n"
   ]
  },
  {
   "cell_type": "code",
   "execution_count": null,
   "id": "44bc14ba-5601-4404-b559-614700039b67",
   "metadata": {},
   "outputs": [],
   "source": []
  }
 ],
 "metadata": {
  "kernelspec": {
   "display_name": "Python 3-12 (COMM4190)",
   "language": "python",
   "name": "python3-12_comm4190"
  },
  "language_info": {
   "codemirror_mode": {
    "name": "ipython",
    "version": 3
   },
   "file_extension": ".py",
   "mimetype": "text/x-python",
   "name": "python",
   "nbconvert_exporter": "python",
   "pygments_lexer": "ipython3",
   "version": "3.12.11"
  }
 },
 "nbformat": 4,
 "nbformat_minor": 5
}
