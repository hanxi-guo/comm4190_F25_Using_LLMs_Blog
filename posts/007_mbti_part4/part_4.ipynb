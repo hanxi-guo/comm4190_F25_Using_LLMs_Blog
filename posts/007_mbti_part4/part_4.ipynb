{
 "cells": [
  {
   "cell_type": "raw",
   "id": "6b1b7c56-b45e-45ba-9ce7-ec156a39d661",
   "metadata": {},
   "source": [
    "---\n",
    "title: \"When AI Meets MBTI: Who is your AI soulmate? \"\n",
    "description: \"Part 4: Are you happiest with a complementary AI therapist… or an identical AI chaos buddy?\" \n",
    "author: \"Hanxi\"\n",
    "date: \"9/22/2025\"\n",
    "categories:\n",
    "  - LLMs\n",
    "  - prompting\n",
    "  - Series\n",
    "  - Psychology\n",
    "  - Survey\n",
    "---"
   ]
  },
  {
   "cell_type": "markdown",
   "id": "2bfa24a4-9b54-48bc-aff3-2ad869279900",
   "metadata": {},
   "source": [
    "Welcome back to When AI Meets MBTI! So far in Parts 1–3, we’ve played three games: spotting personality in AI replies, guessing types without labels, and pushing GPT to cosplay as any MBTI you like. If you haven't seen them, click here]Now we turn aroud into another question: are humans happier chatting with AI that matches their own MBTI type, or one that’s their complementary opposite? In other words: do you want an AI therapist or an AI chaos twin? Let’s run a quick mini-survey and find out!\n",
    "\n",
    "> For this part of the series, I used ChatGPT-5 as the model. The “personality types” you’ll see are not real traits of the system, but styles that I prompted it to adopt (or that readers later interpreted). This is not a strict psychological study—it’s a playful survey and thought experiment\n"
   ]
  },
  {
   "cell_type": "markdown",
   "id": "87f54ad6-7164-40ac-8b2a-005df54a9e17",
   "metadata": {},
   "source": [
    "# Experiment\n",
    "\n"
   ]
  }
 ],
 "metadata": {
  "kernelspec": {
   "display_name": "Python 3-12 (COMM4190)",
   "language": "python",
   "name": "python3-12_comm4190"
  },
  "language_info": {
   "codemirror_mode": {
    "name": "ipython",
    "version": 3
   },
   "file_extension": ".py",
   "mimetype": "text/x-python",
   "name": "python",
   "nbconvert_exporter": "python",
   "pygments_lexer": "ipython3",
   "version": "3.12.11"
  }
 },
 "nbformat": 4,
 "nbformat_minor": 5
}
