{
 "cells": [
  {
   "cell_type": "raw",
   "id": "61c107f8-1503-4d40-8c4d-0c723abf51eb",
   "metadata": {},
   "source": [
    "---\n",
    "title: \"Lost in Translation: AI After MIIS\"\n",
    "description: \"When the bridge of authority disappears, how will AI ‘transfer’ language?\" \n",
    "author: \"Hanxi\"\n",
    "date: \"9/17/2025\"\n",
    "categories:\n",
    "  - LLMs\n",
    "  - prompting\n",
    "  - talk with AI\n",
    "  - cross-culture\n",
    "  - translation\n",
    "  - News\n",
    "---"
   ]
  },
  {
   "cell_type": "markdown",
   "id": "2375e53a-0af1-40da-9f76-0384d4f82288",
   "metadata": {},
   "source": [
    "Recently, a news story went viral across social media worldwide. The *Middlebury Institute of International Studies at Monterey, MIIS* will cease admitting graduate students in June 2027. Monterey is not well known to the general public, but it is well-known in the translation industry and is known as the **\"Harvard of translation\"**. \n",
    "It is undoubted that there are many reasons behind MIIS’s planned phase-out. Nonetheless, a widely circulating view holds that advances in AI and the resulting contraction of translation roles—played an indirect part.\n",
    "\n",
    "This made me wonder how much AI actually factored into the decision to wind down the programs, so I ran a small experiment and have a small \"discussion\" with it.\n",
    "\n",
    "So, let’s get started!\n",
    "\n",
    "> All AI responses shown here were generated with OpenAI’s ChatGPT-5. The views expressed here are my own and do not represent the official position of OpenAI, MIIS, or any other institution. \n"
   ]
  },
  {
   "cell_type": "markdown",
   "id": "d500825f-00f6-4255-901d-0276dfef17a9",
   "metadata": {},
   "source": [
    "![Image by xiaohongshu user: 116918972](moon.jpeg)\n",
    "\n",
    "# Experiment (part 1)\n",
    "\n",
    "\n",
    "The sentence which we selected here is the last sentence of *The Great Gatsby* by F. Scott Fitzgerald, it reads: \"*So we beat on, boats against the current, borne back ceaselessly into the past*.\" The order of languages used for translation here is based on the list of languages ranked by number of native speakers[^1], except for the original one which is English :)\n",
    "\n",
    "> Each translation is happened in a brand new conversation to avoid memory-lead bias. We only keep the original sentence and its translation, removing any unnecessary AI-generated content manually.\n",
    "\n",
    "[^1]: From [Wikipedia](https://en.wikipedia.org/wiki/List_of_languages_by_number_of_native_speakers)"
   ]
  },
  {
   "cell_type": "markdown",
   "id": "c1ed02a2-be42-4f30-9e85-da1fee06f953",
   "metadata": {},
   "source": [
    "Prompt: \"So we beat on, boats against the current, borne back ceaselessly into the past.\" translate this into Mandarin Chinese\n",
    "\n",
    "ChatGPT: 于是我们不断前行，如同逆流而上的船只，被无情地推回到过去。\n",
    "\n",
    "<details>\n",
    "<summary><b>Click to view full translation process</b></summary>\n",
    "\n",
    "- ChatGPT: Así seguimos adelante, como barcos que navegan contra la corriente, arrastrados sin piedad hacia el pasado. (Spanish)\n",
    "- ChatGPT: और हम इसी तरह आगे बढ़ते रहते हैं, जैसे नावें धारा के विपरीत चलती हों, बेरहमी से अतीत की ओर खींची जाती हुईं। (Hindi)\n",
    "- ChatGPT: E aqui seguimos em frente, como barcos que navegam contra a corrente, impiedosamente arrastados em direção ao passado. (Portuguese)\n",
    "- ChatGPT: এবং এভাবেই আমরা এগিয়ে চলি, যেন স্রোতের বিপরীতে চলা নৌকাগুলো, নির্মমভাবে অতীতের দিকে টেনে নেওয়া হয়। (Bengali)\n",
    "- ChatGPT: И вот так мы идём вперёд, словно лодки против течения, безжалостно увлекаемые назад — в прошлое (Russian)\n",
    "\n",
    "</details>\n",
    "\n",
    "\n",
    "Finally after 5 translations, we translate the sentence from Russian back to English: \n",
    "\n",
    "ChatGPT: **And so we go on, like boats against the current, relentlessly borne back into the past.**\n"
   ]
  },
  {
   "cell_type": "markdown",
   "id": "5a42a9b5-125b-4e29-b10d-486a687654cf",
   "metadata": {},
   "source": [
    "Well, it seems that the AI hardly altered the basic meaning of the original. Without explicitly pointing it out, let’s imagine using Google Translate instead and running the same five-pass translation (through the same languages). The final output we would get is: **“Therefore, we continue to go against the tide and constantly delve into the past.”** Clearly, compared with the AI’s result, this version shows much greater semantic drift.\n",
    "\n",
    "Seeing this contrast made me pause. Seeing that gap made me wonder if it’s about how they handle context or just how they weigh words, but it made me curious enough to ask the AI itself. Afterall, it’s right here with me."
   ]
  },
  {
   "cell_type": "markdown",
   "id": "ed549f90-ae89-4523-b24a-c0e1b39ae2ca",
   "metadata": {},
   "source": [
    "![Image by DeepAI](boat.jpeg)\n",
    "\n",
    "\n",
    "\n",
    "# Experiment (part 2)\n",
    "\n",
    "Prompt: Using the same sentence “So we beat on, boats against the current, borne back ceaselessly into the past”, I tried multiple rounds of translation across five languages. The AI’s final version came out as “And so we go on, like boats against the current, relentlessly borne back into the past”, while Google Translate gave “Therefore, we continue to go against the tide and constantly delve into the past.” How do you see this contrast? Which version do you think captures the original better?\n",
    "\n",
    "> The answer is long here so I summarize them and keep its main points by myself.\n",
    "\n",
    "ChatGPT: The AI version preserves more of the imagery, mood, and inevitability of Fitzgerald’s line, even though it slightly weakens the opening action. Google’s version distorts the sense of struggle by making it seem like people choose to “delve” into the past.\n",
    "\n",
    "Prompt: Why do you think Google Translate ended up drifting so much compared to you?\n",
    "\n",
    "ChatGPT: Google Translate doesn’t optimize for style, cadence, or emotional charge — it optimizes for clarity and neutrality. Since you did multiple rounds across five languages, GT had to keep “making sense” at each step. ButI’m not tied to literal alignment — Fitzgerald’s line is metaphorical and rhythmic, and I’m trained to weigh tone, rhythm, and imagery when rephrasing.\n",
    "\n",
    "Prompt:Do you think it’s about how each system handles meaning across multiple passes?\n",
    "\n",
    "ChatGPT: Yes, it’s very much about how each system encodes and transfers meaning across multiple passes. GT keeps what is most common across languages, while I try to keep the deeper meaning and style.”\n",
    "\n",
    "Prompt: Are small drifts in wording harmless, or do they change the soul of the text?\n",
    "ChatGPT: It really depends on what kind of text you’re dealing with. Small drifts aren’t always harmless. In practical text, they may not matter; in literary text, they can change the soul — *because in literature, the words are the meaning, not just carriers of it*.\n",
    "\n",
    "------"
   ]
  },
  {
   "cell_type": "markdown",
   "id": "6959850d-2a1e-4415-aaee-bedc398c2e1b",
   "metadata": {},
   "source": [
    "Not sure how you feel about it when you read this result of the experiment, but personally I really like its response in the last question. In instructions, news, or casual writing, small drifts are often harmless. Whether it says “keep going” or “continue on” makes little difference， because the meaning survives, and the reader’s experience is unaffected. But in novels, in poetry, in letters, in those pieces of literature humans write because they are too full of pain or too full of joy to stay silent, words truly carry their meaning."
   ]
  },
  {
   "cell_type": "markdown",
   "id": "d4a15905-d44c-408a-8d3e-e703366edc7a",
   "metadata": {},
   "source": [
    "# Summary\n",
    "\n",
    "So maybe the real lesson isn’t about winning or losing in translation, but about what gets carried forward. When I first read about MIIS winding down, the easy explanation was “AI killed translation.” But after this small experiment, I think the story is more complicated.The meaning and role of translation change depending on the text itself: in practical documents, accuracy and clarity are usually enough, while in literary works the texture of rhythm, emotion, and imagery cannot be ignored. That’s why we cannot simply conclude that AI is better than Google Translate, or even better than human beings. Human translators often understand first, then re-voice the work so its soul can live again in another language; AI, most of the time, an only infinitely approach that soul.\n",
    "\n",
    "And maybe that’s the point: AI can infinitely approach the soul, but never quite touch it. The question is, when words cross borders, do we settle for “close enough”… or do we keep chasing the echo that makes them alive?"
   ]
  },
  {
   "cell_type": "code",
   "execution_count": null,
   "id": "3d8ce653-bf2d-46ef-9f21-2bc9aa8b219d",
   "metadata": {},
   "outputs": [],
   "source": []
  }
 ],
 "metadata": {
  "kernelspec": {
   "display_name": "Python 3-12 (COMM4190)",
   "language": "python",
   "name": "python3-12_comm4190"
  },
  "language_info": {
   "codemirror_mode": {
    "name": "ipython",
    "version": 3
   },
   "file_extension": ".py",
   "mimetype": "text/x-python",
   "name": "python",
   "nbconvert_exporter": "python",
   "pygments_lexer": "ipython3",
   "version": "3.12.11"
  }
 },
 "nbformat": 4,
 "nbformat_minor": 5
}
