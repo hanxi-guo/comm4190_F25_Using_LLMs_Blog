{
 "cells": [
  {
   "cell_type": "raw",
   "id": "262bad0f-6780-4821-ad9f-989f608481b0",
   "metadata": {},
   "source": [
    "---\n",
    "title: \"Readings of Why Machines Learn (Part 1) \"\n",
    "description: \"Machines Don’t Understand, They Minimize\" \n",
    "author: \"Hanxi\"\n",
    "date: \"10/01/2025\"\n",
    "categories:\n",
    "  - book\n",
    "  - reflection\n",
    "  - Series\n",
    "draft: true\n",
    "---"
   ]
  },
  {
   "cell_type": "markdown",
   "id": "daf08d4a-96f4-4fa9-9558-0823c69a33d5",
   "metadata": {},
   "source": []
  },
  {
   "cell_type": "code",
   "execution_count": null,
   "id": "2d109a9d-02e2-4bbe-ace0-3780de2d0295",
   "metadata": {},
   "outputs": [],
   "source": []
  }
 ],
 "metadata": {
  "kernelspec": {
   "display_name": "Python 3-12 (COMM4190)",
   "language": "python",
   "name": "python3-12_comm4190"
  },
  "language_info": {
   "codemirror_mode": {
    "name": "ipython",
    "version": 3
   },
   "file_extension": ".py",
   "mimetype": "text/x-python",
   "name": "python",
   "nbconvert_exporter": "python",
   "pygments_lexer": "ipython3",
   "version": "3.12.11"
  }
 },
 "nbformat": 4,
 "nbformat_minor": 5
}
