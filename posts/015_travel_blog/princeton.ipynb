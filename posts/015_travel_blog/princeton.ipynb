{
 "cells": [
  {
   "cell_type": "raw",
   "id": "a95edab2-26b8-4af9-8819-e0e4c37ac8ad",
   "metadata": {},
   "source": [
    "---\n",
    "title: \"What happens when AI handles your checkout?\"\n",
    "description: \"If your checkout screen suddenly spoke to you, would you feel safer, or more pressured?\" \n",
    "author: \"Hanxi\"\n",
    "date: \"10/10/2025\"\n",
    "categories:\n",
    "  - LLMs\n",
    "  - prompting\n",
    "  - reflection\n",
    "  - Psychology\n",
    "  - News\n",
    "draft: true\n",
    "---"
   ]
  }
 ],
 "metadata": {
  "kernelspec": {
   "display_name": "Python 3-12 (COMM4190)",
   "language": "python",
   "name": "python3-12_comm4190"
  },
  "language_info": {
   "codemirror_mode": {
    "name": "ipython",
    "version": 3
   },
   "file_extension": ".py",
   "mimetype": "text/x-python",
   "name": "python",
   "nbconvert_exporter": "python",
   "pygments_lexer": "ipython3",
   "version": "3.12.11"
  }
 },
 "nbformat": 4,
 "nbformat_minor": 5
}
