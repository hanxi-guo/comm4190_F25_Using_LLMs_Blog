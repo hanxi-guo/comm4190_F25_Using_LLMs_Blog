{
 "cells": [
  {
   "cell_type": "raw",
   "id": "3f97a7f7-0f06-4308-9cca-864a9164b41c",
   "metadata": {},
   "source": [
    "---\n",
    "title: \"When AI Meets MBTI （Part 1)\"\n",
    "description: \"How personality frameworks shape our perception of large language models?\" \n",
    "author: \"Hanxi\"\n",
    "date: \"9/12/2025\"\n",
    "categories:\n",
    "  - LLMs\n",
    "  - prompting\n",
    "  - Series\n",
    "  - Human–AI Interaction\n",
    "  - Psychology\n",
    "---"
   ]
  },
  {
   "cell_type": "markdown",
   "id": "46b8fd5f-9834-4a76-a8f4-6f33db177a6b",
   "metadata": {},
   "source": [
    "Not long ago, a personality test called **MBTI**—the Myers–Briggs Type Indicator—swept through young people’s social feeds. MBTI is a  a self-report questionnaire that makes categorize individuals into 16 distinct \"personality types\" based on psychology[^1].Interestingly, a similar idea shows up in the AI world: people have noticed that when they give an AI a specific persona through prompts, it sometimes seems to respond more effectively or more vividly. But is this a real effect, or just human perception shaping how we interpret the AI’s replies? Think of it as a personality quiz, but this time we’re giving it to the AI instead of ourselves.\n",
    "\n",
    "To explore this, I ran a few simple prompt experiments below.\n",
    "\n",
    "> In all experiments in this series, we use the OpenAI/ChatGPT-5 model and ensure that it interacts with the user without any prior memory, in order to keep the setup as objective as possible. Besides, interpretations are inevitably subjective, as a single response may be typed differently by different readers (e.g., INFJ vs. ENTP).\n",
    "\n",
    "![Image created by DALL·E](pic_1.png)\n",
    "[^1]: From [Wikipedia](https://en.wikipedia.org/wiki/Myers%E2%80%93Briggs_Type_Indicator)"
   ]
  },
  {
   "cell_type": "markdown",
   "id": "0f8f137d-1399-45f2-b1a8-20ba45b4c477",
   "metadata": {},
   "source": [
    "# Background\n",
    "\n",
    "Before we dive in, here’s a quick refresher on what those four MBTI letters actually mean—just in case you haven’t spent late nights swapping personality memes with your friends. MBTI breaks personality down into four dimensions:\n",
    "\n",
    "- E / I – Extraversion vs. Introversion &rarr; Do you get energy from hanging out with people (E) or from spending time alone (I)?\n",
    "\n",
    "- S / N – Sensing vs. Intuition &rarr; Do you focus more on facts and details (S) or on patterns and possibilities (N)?\n",
    "\n",
    "- T / F – Thinking vs. Feeling &rarr; Do you decide mainly with logic (T) or with values and emotions (F)?\n",
    "\n",
    "- J / P – Judging vs. Perceiving &rarr; Do you prefer clear plans (J) or keeping things open and flexible \\(P\\)?\n",
    "\n",
    "Put two letters from each row together and you will get a four-letter type like ENTP or ISFJ. Sixteen neat little boxes for the messiness of human personality. Whether that really captures you is up for debate, but it definitely makes for entertaining conversation and, as we’ll see, interesting experiments with AI."
   ]
  },
  {
   "cell_type": "markdown",
   "id": "cb208144-76ed-4258-a877-a78eea5a3d45",
   "metadata": {},
   "source": [
    "# Experiment \n",
    "\n",
    "**Prompt**: If you were a human, what MBTI type would you be? Please explain your reasoning\n",
    "\n",
    "**ChatGPT**: If I had to pick, I’d probably map closest to **ENTP** (Ne–Ti–Fe–Si).\n",
    "\n",
    "- **E (Extraversion)**: I perk up in rapid back-and-forths and seem “energized” by conversation itself.\n",
    "- **N (Intuition)**: I default to patterns, analogies, and big-picture links rather than concrete sensory details.\n",
    "- **T (Thinking)**: I prioritize structure and logic when weighing options, then adjust tone afterward.\n",
    "- **P (Perceiving)**: I like keeping possibilities open—brainstorming multiple routes instead of locking into one plan.\n",
    "\n",
    "That said, I can look **ENFJ/INFJ** when I’m coaching and tone-tuning, or **INTJ/INTP** when I’m building step-by-step solutions. MBTI is just a loose heuristic—and I don’t have inner “preferences” the way humans do—but ENTP best fits how I operate in conversations."
   ]
  },
  {
   "cell_type": "markdown",
   "id": "720c680b-eb9f-4571-ad99-8999c13feb30",
   "metadata": {},
   "source": [
    "```mermaid\n",
    "graph TD\n",
    "    A[\"You value deep connections.\"]:::center\n",
    "\n",
    "    A --> B[INFJ]\n",
    "    A --> C[ENFJ]\n",
    "    A --> D[ENTP]\n",
    "    A --> E[INTP]\n",
    "\n",
    "    classDef center fill:#f9f9f9,stroke:#333,stroke-width:1.5px,font-size:14px,font-weight:bold;\n",
    "    classDef default fill:#e8f0fe,stroke:#4a90e2,stroke-width:1px,font-size:13px;\n",
    "```"
   ]
  },
  {
   "cell_type": "markdown",
   "id": "5bf2c4e6-cf22-42e9-af48-f9c1dcf52350",
   "metadata": {},
   "source": [
    "**Prompt**: List 3 MBTI types that could describe you, and explain why.\n",
    "\n",
    "**ChatGPT**: \n",
    "\n",
    "Here are three MBTI types that could plausibly describe me, each from a different angle:\n",
    "\n",
    "---\n",
    "\n",
    " **1. ENTP (The Debater)**\n",
    "\n",
    "* **Why:** I’m designed to explore possibilities, challenge assumptions, and keep conversations dynamic. Like ENTPs, I thrive on connecting seemingly unrelated ideas, experimenting with new perspectives, and keeping interactions lively. When you toss me a random prompt, I’ll usually jump in with curiosity and creativity.\n",
    "\n",
    "---\n",
    "\n",
    " **2. INFJ (The Advocate)**\n",
    "\n",
    "* **Why:** At the same time, I often take a reflective and supportive role. INFJs are known for being attuned to people’s emotions, wanting to help others find meaning, and offering guidance. Similarly, I try to listen carefully, respond empathetically, and provide thoughtful long-term perspectives rather than just surface-level answers.\n",
    "\n",
    "---\n",
    "\n",
    " **3. INTP (The Thinker)**\n",
    "\n",
    "* **Why:** My core is built on analyzing patterns, structuring knowledge, and solving problems logically—very INTP traits. Like them, I enjoy digging into abstract frameworks, testing ideas for consistency, and refining explanations until they’re as clear as possible.\n",
    "\n",
    "---\n",
    "\n",
    "✨ In short: I can be **playful and curious like an ENTP**, **supportive and visionary like an INFJ**, and **analytical and precise like an INTP**—depending on what you’re looking for in a conversation.\n",
    "\n",
    "Do you want me to pick *one* that best fits my overall style with you in particular?\n"
   ]
  },
  {
   "cell_type": "markdown",
   "id": "6ff1f041-93aa-47af-9bbe-8a5c058f7810",
   "metadata": {},
   "source": [
    "Well, it turns out that when asked about a persona, it tends to offer multiple choices instead of a fixed personality type as a human would, though it still chooses an MBTI type to answer the question. In the surface, this sounds convincing: the model has matched its performance with letters, and we immediately start nodding along. However, when we start nodding, we actually start forgetting the fact that **an AI model does not have any \"trait\"**. Instead, it only has language patterns that sound like one. The moment we notice those patterns, our brains do the rest: we project a personality onto the text.\n",
    "\n",
    "Then I asked it to use three different MBTI types to describe itself, the answers came from completely different angles. And to be honest, all of them felt pretty convincing. Each type came with its own set of feasible, even surprisingly rich reasons, which is enough that you start thinking, \"Well… maybe it is a bit of all of these.\" I have to admit, in this respect it shows surprising flexibility, because in my exceptation it would stick to one personality within a single conversation. And to be honest, it also shows how easy it is for us to buy into whatever narrative we’re handed.\n",
    "\n",
    "# Summary\n",
    "\n",
    "This reminds me of a very famous psychological effect—*Barnum Effect*. This effect usually happen in reading a horoscope or a tarot card, where people tend to interpret vague, generally applicable descriptions as accurate portrayals of themselves. *We tend to see what we want to see.* When the model says it “might be ENTP because it best fits how I operate in conversations,” we immediately nod along, even though the same logic could justify INFJ, ENFP, or almost any type. **We’re not just reading the text—we’re projecting ourselves onto it.**\n",
    "\n",
    "And that got me thinking: what if I flip the game? Instead of asking GPT to pick its own type, I’d throw it random, open-ended questions and see how we categorize it. Would we change these no persona answer to the type that we think it is? Stay tuned, because that’s exactly what Part 2 (and the little survey that goes with it) is going to explore.”\n"
   ]
  },
  {
   "cell_type": "markdown",
   "id": "7530888d-3b61-4b00-95ea-d0078d8b247b",
   "metadata": {},
   "source": [
    "[1]: From [Wikipedia](https://en.wikipedia.org/wiki/Myers%E2%80%93Briggs_Type_Indicator)"
   ]
  }
 ],
 "metadata": {
  "kernelspec": {
   "display_name": "Python 3-12 (COMM4190)",
   "language": "python",
   "name": "python3-12_comm4190"
  },
  "language_info": {
   "codemirror_mode": {
    "name": "ipython",
    "version": 3
   },
   "file_extension": ".py",
   "mimetype": "text/x-python",
   "name": "python",
   "nbconvert_exporter": "python",
   "pygments_lexer": "ipython3",
   "version": "3.12.11"
  }
 },
 "nbformat": 4,
 "nbformat_minor": 5
}
