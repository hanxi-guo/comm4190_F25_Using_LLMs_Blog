{
 "cells": [
  {
   "cell_type": "raw",
   "id": "a95edab2-26b8-4af9-8819-e0e4c37ac8ad",
   "metadata": {},
   "source": [
    "---\n",
    "title: \"Let AI Became My Tour Guide\"\n",
    "description: \"Letting AI become my campus passerby lens\" \n",
    "author: \"Hanxi\"\n",
    "image: IMG_7403.JPG\n",
    "date: \"10/10/2025\"\n",
    "categories:\n",
    "  - LLMs\n",
    "  - prompting\n",
    "  - trip\n",
    "  - Human–AI Interaction\n",
    "---"
   ]
  },
  {
   "cell_type": "markdown",
   "id": "82d6f92a-ac8b-48c3-bb5f-a6915dcee665",
   "metadata": {},
   "source": [
    "During fall break, I took a small trip to Princeton. The air was clear and a little cold, and I had no plan for the day. I sat in a café near the train station and opened the chat window, half out of curiosity, half out of boredom. I typed a simple request: give me four inspirations for how to explore this small town. The AI replied instantly, as if it had been waiting for the question. Its suggestions were ordinary yet oddly specific. I decided to follow them all, one by one, and see which moment would stay with me the longest."
   ]
  },
  {
   "cell_type": "markdown",
   "id": "d12c87a6-5d80-4093-92f3-3a63e9de0ed4",
   "metadata": {},
   "source": [
    "# Conversation\n",
    "\n",
    "I use OpenAI/ChatGPT-5 in this small experiment.\n",
    "\n",
    "## Prompt:\n",
    "\n",
    "I have 40 minutes on the Princeton campus. From the perspectives of a security guard, a librarian, an undergraduate student and a tourist, please give me one of the most worthwhile things to do and explain why (60 words or less for each).\n",
    "\n",
    "## Response:\n",
    "\n",
    "Security Guard: Take a peaceful walk around Nassau Hall. It’s quiet, symbolic, and central to campus life — a place where guards often observe both history and calm order blending seamlessly.\n",
    "\n",
    "Librarian: Visit Firestone Library’s reading room. Its architecture and atmosphere capture Princeton’s scholarly heart — vast knowledge, quiet concentration, and timeless dedication to learning.\n",
    "\n",
    "Undergraduate Student: Sit by Cannon Green. It’s where friends meet, traditions unfold, and the spirit of campus community thrives between classes.\n",
    "\n",
    "Tourist: Explore the Princeton University Art Museum (or its outdoor sculpture garden). It’s free, world-class, and offers an accessible glimpse into culture, creativity, and Princeton’s intellectual charm."
   ]
  },
  {
   "cell_type": "markdown",
   "id": "f1bd57a4-d5d8-418f-a50e-33e2687a6ce3",
   "metadata": {},
   "source": [
    "# Trying It Out\n",
    "\n",
    "## Security Guard\n",
    "\n",
    "Answer: Take a peaceful walk around Nassau Hall. It’s quiet, symbolic, and central to campus life — a place where guards often observe both history and calm order blending seamlessly.\n",
    "\n",
    "In Reality:\n",
    "My first stop was Nassau Hall. I walked slowly along the old stone walls, leaves crunching under my shoes. It’s fall now, and the trees have turned a deep golden hue. Everything felt calm, almost ceremonial. Emerald ivy clung to the walls as if it had been growing there for centuries, maybe that's why we call princeton as one of ivy league😉?  The bronze tigers lay quietly by the entrance, and the American flag waved gently above the doorway. There was a sense of quiet, timeless strength in the air.\n",
    "\n",
    "![📷 Photo by me](IMG_3381.JPG)\n",
    "\n",
    "\n",
    "\n",
    "## Librarian\n",
    "\n",
    "Answer:  Visit Firestone Library’s reading room. Its architecture and atmosphere capture Princeton’s scholarly heart — vast knowledge, quiet concentration, and timeless dedication to learning.\n",
    "\n",
    "In Reality:\n",
    "Firestone smelled like paper and ink. Rows of lamps glowed, each lighting someone’s little universe of notes and coffee cups. I sat for an hour without touching my phone, and it felt like time paused politely for me. It seems has magic to let person focus.\n",
    "\n",
    "![📷 Photo by me](IMG_7386.jpg)\n",
    "\n",
    "\n",
    "\n",
    "## Undergraduate Student\n",
    "\n",
    "Answer: Sit by Cannon Green. It’s where friends meet, traditions unfold, and the spirit of campus community thrives between classes.\n",
    "\n",
    "In Reality:\n",
    "**Well, this is a bit awkward: Cannon Green is just behind Nassau Hall, so I had to loop back. It’s interesting that an LLM didn’t point that out; it really only does what we ask it to.**\n",
    "At Cannon Green, a gentle breeze drifted by, and sunlight filtered softly through the gaps between the leaves. A few students were eating sandwiches, some half-talking, half-dozing in the warmth. I didn’t know anyone, but I felt completely at ease, immersed and relaxed.\n",
    "\n",
    "![📷 Photo by me](IMG_7403.JPG)\n",
    "\n",
    "\n",
    "\n",
    "## Tourist\n",
    "\n",
    "Prompt: Explore the Princeton University Art Museum (or its outdoor sculpture garden). It’s free, world-class, and offers an accessible glimpse into culture, creativity, and Princeton’s intellectual charm.\n",
    "\n",
    "In Reality:\n",
    "**This tip didn’t even work for me: the museum’s already closed!** I guess this suggestion must’ve come from the LLM’s training data and wasn’t updated in time, so even if I added “now” in the prompt, it couldn’t reflect the current situation. Still, the scenery around the museum was beautiful. Maybe that’s a reminder that following an LLM’s advice doesn’t always lead to practical results? But life, after all, is about finding unexpected joys along the way.\n",
    "\n",
    "![📷 Photo by me](IMG_7629.JPG)"
   ]
  },
  {
   "cell_type": "markdown",
   "id": "82eecd4f-6066-43b4-862f-9da5505a8791",
   "metadata": {},
   "source": [
    "# Closing Reflection\n",
    "\n",
    "The LLM guided my steps with reason, yet beauty waited in the pauses between its words. Princeton’s stones, the drifting leaves, the warmth of light, none were in its plan. Perhaps truth is not in perfect guidance, but in the quiet surprise of being slightly lost. And that's might be the reason why we are beteer than llms: because we don’t just follow instructions, we feel.\n"
   ]
  },
  {
   "cell_type": "code",
   "execution_count": null,
   "id": "7bf007aa-39f0-4b37-8a50-b8fda6ee1dd0",
   "metadata": {},
   "outputs": [],
   "source": []
  }
 ],
 "metadata": {
  "kernelspec": {
   "display_name": "Python 3-12 (COMM4190)",
   "language": "python",
   "name": "python3-12_comm4190"
  },
  "language_info": {
   "codemirror_mode": {
    "name": "ipython",
    "version": 3
   },
   "file_extension": ".py",
   "mimetype": "text/x-python",
   "name": "python",
   "nbconvert_exporter": "python",
   "pygments_lexer": "ipython3",
   "version": "3.12.11"
  }
 },
 "nbformat": 4,
 "nbformat_minor": 5
}
