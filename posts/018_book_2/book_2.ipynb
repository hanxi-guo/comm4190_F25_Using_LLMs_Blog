{
 "cells": [
  {
   "cell_type": "raw",
   "id": "298b4b26-a4dc-49d6-9480-fad4e7e21532",
   "metadata": {},
   "source": [
    "---\n",
    "title: \"Readings of Why Machines Learn (Part 1) \"\n",
    "description: \"Machines Don’t Understand, They Minimize\" \n",
    "author: \"Hanxi\"\n",
    "date: \"10/17/2025\"\n",
    "categories:\n",
    "  - book\n",
    "  - reflection\n",
    "  - Series\n",
    "draft: true\n",
    "---"
   ]
  }
 ],
 "metadata": {
  "kernelspec": {
   "display_name": "Python 3-12 (COMM4190)",
   "language": "python",
   "name": "python3-12_comm4190"
  },
  "language_info": {
   "codemirror_mode": {
    "name": "ipython",
    "version": 3
   },
   "file_extension": ".py",
   "mimetype": "text/x-python",
   "name": "python",
   "nbconvert_exporter": "python",
   "pygments_lexer": "ipython3",
   "version": "3.12.11"
  }
 },
 "nbformat": 4,
 "nbformat_minor": 5
}
