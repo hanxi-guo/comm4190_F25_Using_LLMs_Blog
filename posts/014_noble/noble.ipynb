{
 "cells": [
  {
   "cell_type": "raw",
   "id": "32d575e8-6a3b-4eb5-a14a-9342a4d233a8",
   "metadata": {},
   "source": [
    "---\n",
    "title: \"What happens when AI handles your checkout?\"\n",
    "description: \"If your checkout screen suddenly spoke to you, would you feel safer, or more pressured?\" \n",
    "author: \"Hanxi\"\n",
    "date: \"10/08/2025\"\n",
    "categories:\n",
    "  - LLMs\n",
    "  - prompting\n",
    "  - reflection\n",
    "  - Psychology\n",
    "  - News\n",
    "draft: true\n",
    "---"
   ]
  }
 ],
 "metadata": {
  "kernelspec": {
   "display_name": "Python 3-12 (COMM4190)",
   "language": "python",
   "name": "python3-12_comm4190"
  },
  "language_info": {
   "codemirror_mode": {
    "name": "ipython",
    "version": 3
   },
   "file_extension": ".py",
   "mimetype": "text/x-python",
   "name": "python",
   "nbconvert_exporter": "python",
   "pygments_lexer": "ipython3",
   "version": "3.12.11"
  }
 },
 "nbformat": 4,
 "nbformat_minor": 5
}
