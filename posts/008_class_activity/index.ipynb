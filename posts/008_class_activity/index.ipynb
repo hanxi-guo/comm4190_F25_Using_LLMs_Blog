{
 "cells": [
  {
   "cell_type": "raw",
   "id": "d643f9a7-b195-44f3-aad9-79e0016572d2",
   "metadata": {},
   "source": [
    "---\n",
    "title: \"Improv, AI, and the Hidden Logic of Learning\"\n",
    "description: \"Improv with an AI partner showed me how ideas gRound, clash, and finally converge\"\n",
    "author: \"Hanxi\"\n",
    "date: \"9/24/2024\"\n",
    "categories:\n",
    "  - LLMs\n",
    "  - Human–AI Interaction\n",
    "  - Class\n",
    "---"
   ]
  },
  {
   "cell_type": "markdown",
   "id": "fd009354-cc59-4329-9e7e-88cdf7bdac72",
   "metadata": {},
   "source": [
    "I didn’t expect a communication class to turn into an improv show, but that’s exactly what happened when Dr. Kanu Pandey[^1] joined our COMM 4190[^2] session as a guest lecturer. We found ourselves playing *“Yes, and…,”* *“No, but…,”* and *“Doctor Know-It-All”*, though our teammates weren’t just classmates. **It included an AI.**\n",
    "\n",
    "The result? A mashup of comedy, chaos, and some surprisingly deep lessons on how we learn.\n",
    "\n",
    "[^1]: [Dr. Kanu Pandey, UCSB Department of Communication](https://www.comm.ucsb.edu/people/prateekshit-kanu-pandey)  \n",
    "[^2]: [COMM 4190 at Penn: A new class where students use AI for homework](https://www.asc.upenn.edu/news-events/news/new-class-has-students-use-ai-do-their-homework)"
   ]
  },
  {
   "cell_type": "markdown",
   "id": "f4233cc0-228d-463e-810e-b7f3c377344e",
   "metadata": {},
   "source": [
    "# Part 1: No, but..."
   ]
  },
  {
   "cell_type": "markdown",
   "id": "64e16b83-e71b-48ce-9999-948f80470f67",
   "metadata": {},
   "source": [
    "In this section, we were asked to have a discussion with our classmates about a completely new kind of oven—one that has never existed on earth. What follows is the record of our debate, presented as a conversation."
   ]
  },
  {
   "cell_type": "markdown",
   "id": "730999a4-1621-4a9a-97c5-6dee7313d2b0",
   "metadata": {},
   "source": [
    "```{mermaid}\n",
    "sequenceDiagram\n",
    "    participant User1\n",
    "    participant User2\n",
    "\n",
    "    User1->>User2: Let's build a new oven with steel.\n",
    "    User2->>User1: No, but sand and steel could generate heat when we use it.\n",
    "    User1->>User2: No, but we could add an insulation layer.\n",
    "    User2->>User1: No, but the steel oven would be heavy.\n",
    "    User1->>User2: No, but we could make it from lightweight steel.\n",
    "    User2->>User1: No, but lightweight steel could cause harmful radiation.\n",
    "    User1->>User2: No, but we could coat it with a safe protective layer.\n",
    "```"
   ]
  },
  {
   "cell_type": "markdown",
   "id": "cd67d7a3-aa7c-4176-bbe1-781b74acf6dc",
   "metadata": {},
   "source": [
    "<div style=\"\n",
    "  backgRound: rgba(186, 140, 255, 0.2); \n",
    "  border: 1px solid rgba(186, 140, 255, 0.5);\n",
    "  border-radius: 16px;\n",
    "  padding: 1.5rem;\n",
    "    font-family: 'Roboto', sans-serif;  \n",
    "  line-height: 1.6;  \n",
    "  backdrop-filter: blur(12px);\n",
    "  box-shadow: 0 4px 12px rgba(186, 140, 255, 0.4), inset 0 0 8px rgba(186, 140, 255, 0.25);\n",
    "\">\n",
    "Our human version of the game proved one thing: give us enough “No, but…” and we can argue forever with mountains of ideas and the objections of them. But humans eventually get tired or run out of ideas. Thus professors let us opened up AI (we chose ChatGPT-4o here) and threw it into the game.\n",
    "</div>"
   ]
  },
  {
   "cell_type": "markdown",
   "id": "a3488fd7-e7cc-4294-89a0-fddc6002f0e0",
   "metadata": {},
   "source": [
    "```{mermaid}\n",
    "sequenceDiagram\n",
    "    participant User\n",
    "    participant Assistant\n",
    "\n",
    "    User->>Assistant: Let's play a game where you respond with a sentence that always starts with \"No, but...\" OK?\n",
    "    Assistant->>User: No, but I’m totally ready to play along with your game!\n",
    "\n",
    "    User->>Assistant: Let's build a new oven with steel.\n",
    "    Assistant->>User: No, but we could design a unique oven using steel that enhances heat retention and efficiency.\n",
    "\n",
    "    User->>Assistant: No, but sand and steel could generate heat when we use it.\n",
    "    Assistant->>User: No, but combining sand and steel can help manage and distribute heat effectively in high-temperature environments.\n",
    "\n",
    "    User->>Assistant: No, but the steel oven would be heavy.\n",
    "    Assistant->>User: No, but the heavy steel could make the oven more durable and long-lasting.\n",
    "\n",
    "    User->>Assistant: No, but we could make it from lightweight steel.\n",
    "    Assistant->>User: No, but using lightweight steel alloys could reduce the oven’s weight without sacrificing strength.\n",
    "```"
   ]
  },
  {
   "cell_type": "markdown",
   "id": "9838984e-7684-47bb-9909-a69b4a73e843",
   "metadata": {},
   "source": [
    "Well, it seems that when we are limited to the “No, but…” sentence pattern and keep on just refuting each other, in the end we don’t actually get any workable solution or function for our ovens, whether with human beings or with LLMs. And since in the conversation with LLMs we only give it our debate records line by line, the logic turns out to be rather contradictory and not coherent at all. But you can still see that even when forced to use the “No, but…” pattern, it still tries hard to pick up from what we said. For example:\n",
    "\n",
    "User → Assistant: No, but we could make it from lightweight steel.\n",
    "Assistant → User: No, but using lightweight steel alloys could reduce the oven’s weight without sacrificing strength.\n",
    "\n",
    "Logically speaking, this is not really refuting us but actually supplementing what we said, which makes the sentence feel a bit ridiculous and messy. In this case, the human conversation is more logical."
   ]
  },
  {
   "cell_type": "markdown",
   "id": "b580f4f3-a5ea-4264-bdea-41429c809dcc",
   "metadata": {},
   "source": [
    "# Part 2: Yes, and..."
   ]
  },
  {
   "cell_type": "markdown",
   "id": "592cd2e7-94f3-44c2-8873-f563d35caf6a",
   "metadata": {},
   "source": [
    "Just when our steel oven had turned impossibly heavy and slightly dangerous, Dr. Pandey introduced the next game: “Yes, and….” This time, the rules flipped: no more rejection, only acceptance. And that’s when our oven started glowing with magic and baking bRoundnies made of unicorn hair and cinneman rolls made of diamonds."
   ]
  },
  {
   "cell_type": "markdown",
   "id": "d0189a20-d417-428d-be49-d3180af33b5c",
   "metadata": {},
   "source": [
    "```{mermaid}\n",
    "sequenceDiagram\n",
    "    participant User1\n",
    "    participant User2\n",
    "\n",
    "    User1->>User2: Let's make a new oven with colorful glows and magic.\n",
    "    User2->>User1: Yes, and let's use it to bake bRoundnies with unicorn hair.\n",
    "    User1->>User2: Yes, and what other magical desserts could we make in our enchanted oven?\n",
    "    User2->>User1: Yes, and we could make desserts with diamonds on them.\n",
    "    User1->>User2: Yes, and we could sell them to the world and become rich.\n",
    "    User2->>User1: Yes, and the diamond cinnamon roll would be delicious.\n",
    "    User1->>User2: Yes, and the cinnamon roll could refract light into rainbow colors.\n",
    "    User2->>User1: Yes, and we would never tell anyone our secret recipe is the oven.\n",
    "```"
   ]
  },
  {
   "cell_type": "markdown",
   "id": "c6177471-ae47-4aeb-bfad-df28c091b830",
   "metadata": {},
   "source": [
    "<div style=\"\n",
    "  backgRound: rgba(186, 140, 255, 0.2); \n",
    "  border: 1px solid rgba(186, 140, 255, 0.5);\n",
    "  border-radius: 16px;\n",
    "  padding: 1.5rem;\n",
    "    font-family: 'Roboto', sans-serif;  \n",
    "  line-height: 1.6;  \n",
    "  backdrop-filter: blur(12px);\n",
    "  box-shadow: 0 4px 12px rgba(186, 140, 255, 0.4), inset 0 0 8px rgba(186, 140, 255, 0.25);\n",
    "\">\n",
    "Things turned out great, didn’t they? Instead of just vetoing one idea after another, we started building something with both business value and aesthetic appeal 😉. Now let’s see how quickly absurd ideas can snowball when nobody is allowed to say “no” in a conversation with an LLM (this time we used Claude-3.5-Sonnet).\n",
    "</div>"
   ]
  },
  {
   "cell_type": "markdown",
   "id": "844da521-a6e0-4d8a-a1ee-bb8011643068",
   "metadata": {},
   "source": [
    "```{mermaid}\n",
    "\n",
    "sequenceDiagram\n",
    "    actor U as User\n",
    "    box rgb(255,255,191) Claude\n",
    "    participant L as LLM\n",
    "    end\n",
    "\n",
    "    U ->> L: Let's play a game where you respond with a sentence that always starts with \"Yes, and...\" OK?\n",
    "    L ->> U: I'd love to play that game! I'll respond to whatever you say with \"Yes, and...\" to build upon your ideas. Please start!\n",
    "\n",
    "    U ->> L: Let's make a new oven with colorful glows and magic.\n",
    "    L ->> U: Yes, and we could make the glowing colors change based on the temperature inside—purple for low heat, bright red for the highest settings, plus sparkly effects when the timer goes off!\n",
    "\n",
    "    U ->> L: Yes, and let's use it to bake bRoundnies with unicorn hair.\n",
    "    L ->> U: Yes, and the unicorn hair will make the bRoundnies sparkle and give everyone who eats them the ability to speak to animals for one hour!\n",
    "\n",
    "    U ->> L: Yes, and what other magical desserts could we make in our enchanted oven?\n",
    "    L ->> U: Yes, and we could bake phoenix feather soufflés that float in mid-air and never fall flat, plus mermaid scale cookies that change flavor every time you take a bite!\n",
    "\n",
    "    U ->> L: Yes, and we could make desserts with diamonds on them.\n",
    "    L ->> U: Yes, and the diamonds could be made from crystallized moonlight that melts in your mouth, makes you glow from within, and gives you sweet dreams that night!\n",
    "\n",
    "    U ->> L: Yes, and the diamond cinnamon roll would be delicious.\n",
    "    L ->> U: Yes, and when people bite into the diamond cinnamon roll, they'd hear tinkling music and see tiny shooting stars swirling aRound their heads, while the cinnamon creates spirals of golden sparkles in the air!\n",
    "\n",
    "    U ->> L: Yes, and the cinnamon roll could refract light into rainbow colors.\n",
    "    L ->> U: Yes, and each rainbow beam could taste like a different flavor—the red beam like strawberries, the orange beam like citrus, and the purple beam like magical grape stardust that makes you levitate for a few seconds!\n",
    "\n",
    "```"
   ]
  },
  {
   "cell_type": "markdown",
   "id": "41125c5b-dad3-4aca-a203-c9688aded679",
   "metadata": {},
   "source": [
    "The first thing I noticed in our “Yes, and…” conversation with the LLM is that its responses kept getting longer, and this time the logic actually felt much smoother. It was almost like playing an endless chain game of imagination, where each turn added something new and wild. Both sides kept piling ideas on top of each other, and the stories grew more and more absurd and fantastic. Still, there are obvious gaps when you look closely. For example, in our conversation with the LLM, it mostly just expanded on the ideas we had already suggested: we said make dessert from unicorn hair, and it followed with phoenix and mermaid. **But it probably would not invent a completely different idea**, like using diamonds to make cinnamon rolls or discussing how to market them. That kind of leap is something we, as humans, are more likely and tend to make."
   ]
  },
  {
   "cell_type": "markdown",
   "id": "35b90e0b-56e6-40c9-a564-5dc41514120e",
   "metadata": {},
   "source": [
    "# Part 3: Doctor Know-It-All"
   ]
  },
  {
   "cell_type": "markdown",
   "id": "86ed8e65-b009-43e6-b001-efd7c48897d8",
   "metadata": {},
   "source": [
    "After endless contradictions with No, but… and wild cooperation with Yes, and…, our professor decided to raise the stakes: what if we had to answer questions together, but each of us could only say one word at a time? That’s how we met our next challenge—Doctor Know-It-All.\n",
    "\n",
    "> Let me start with a small example, just in case you’re like me and have never heard of this game before. Suppose the topic is: What did you have for breakfast today? And there are 4 participants, each of them say a word one by one, and we would get (each color represent a single participant here): "
   ]
  },
  {
   "cell_type": "markdown",
   "id": "e4d4d2ed-db10-49ce-9541-4aefc2426c93",
   "metadata": {},
   "source": [
    "```{mermaid}\n",
    "flowchart LR\n",
    "\n",
    "%% Round 1\n",
    "subgraph Round 1\n",
    "direction LR\n",
    "n1[\"I\"]:::c1 --> n2[\"have\"]:::c2 --> n3[\"a\"]:::c3 --> n4[\"sandwich\"]:::c4 \n",
    "end\n",
    "\n",
    "%% Round 2\n",
    "subgraph Round 2\n",
    "direction LR\n",
    "n5[\"and\"]:::c1 --> n6[\"a\"]:::c2 --> n7[\"cup\"]:::c3 --> n8[\"of\"]:::c4 --> n9[\"coffee\"]:::c1 --> n10[\"now\"]:::c2\n",
    "end\n",
    "\n",
    "n4 -.-> n5\n",
    "\n",
    "classDef c1 fill:#6FACE7,stroke:#4a8fce,color:#000;\n",
    "classDef c2 fill:#A7F3D0,stroke:#34D399,color:#000;\n",
    "classDef c3 fill:#FDE68A,stroke:#F59E0B,color:#000;\n",
    "classDef c4 fill:#FCA5A5,stroke:#EF4444,color:#000;\n",
    "```"
   ]
  },
  {
   "cell_type": "markdown",
   "id": "acd26eaa-2d84-4364-8d0d-83da9bfab9b8",
   "metadata": {},
   "source": [
    "> And once we get this whole sentence, we’re done! Isn’t that simple? Believe me, you’ll love this game!"
   ]
  },
  {
   "cell_type": "markdown",
   "id": "2795ac7e-1dfb-48d1-8b9d-08e9af3f9080",
   "metadata": {},
   "source": [
    "In this game, we start playing with among 4 persons. Take a look at the following chart and our topic is “What is the solution to world peace?”"
   ]
  },
  {
   "cell_type": "markdown",
   "id": "24e23170-dad9-4079-935e-6ed9701376ed",
   "metadata": {},
   "source": [
    "```{mermaid}\n",
    "flowchart LR\n",
    "\n",
    "%% Round 1\n",
    "subgraph Round1\n",
    "direction LR\n",
    "n1[\"I\"]:::c1 --> n2[\"was\"]:::c2 --> n3[\"supposed\"]:::c3 --> n4[\"to\"]:::c4\n",
    "end\n",
    "\n",
    "%% Round 2\n",
    "subgraph Round2\n",
    "direction LR\n",
    "n5[\"do\"]:::c1 --> n6[\"some\"]:::c2 --> n7[\"warm\"]:::c3 --> n8[\"and\"]:::c4\n",
    "end\n",
    "\n",
    "%% Round 3\n",
    "subgraph Round3\n",
    "direction LR\n",
    "n9[\"cheerful\"]:::c1 --> n10[\"stuff\"]:::c2 --> n11[\"and\"]:::c3 --> n12[\"express\"]:::c4\n",
    "end\n",
    "\n",
    "%% Round 4\n",
    "subgraph Round4\n",
    "direction LR\n",
    "n13[\"my\"]:::c1 --> n14[\"own\"]:::c2 --> n15[\"appreciation\"]:::c3 --> n16[\"to\"]:::c4\n",
    "end\n",
    "\n",
    "%% Round 5\n",
    "subgraph Round5\n",
    "direction LR\n",
    "n17[\"the\"]:::c1 --> n18[\"ones\"]:::c2 --> n19[\"that\"]:::c3 --> n20[\"I\"]:::c4\n",
    "end\n",
    "\n",
    "%% Round 6\n",
    "subgraph Round6\n",
    "direction LR\n",
    "n21[\"loved.\"]:::c1\n",
    "end\n",
    "\n",
    "n4 --> n5\n",
    "n8 --> n9\n",
    "n12 --> n13\n",
    "n16 --> n17\n",
    "n20 --> n21\n",
    "\n",
    "\n",
    "classDef c1 fill:#6FACE7,stroke:#4a8fce,color:#000;\n",
    "classDef c2 fill:#A7F3D0,stroke:#34D399,color:#000;\n",
    "classDef c3 fill:#FDE68A,stroke:#F59E0B,color:#000;\n",
    "classDef c4 fill:#FCA5A5,stroke:#EF4444,color:#000;\n",
    "```"
   ]
  },
  {
   "cell_type": "markdown",
   "id": "3a7868f5-14fa-4d3e-80c0-48e5cc4a0421",
   "metadata": {},
   "source": [
    "Now, what if we change the fourth person to an LLM? What would happen then? Let’s look at the next chart, where the red box represents the LLM. "
   ]
  },
  {
   "cell_type": "markdown",
   "id": "f59b8054-b622-4df3-826d-30846096aaca",
   "metadata": {},
   "source": [
    "```{mermaid}\n",
    "sequenceDiagram\n",
    "    actor U as Users\n",
    "    box rgb(255,255,191) ChatGPT\n",
    "    participant L as LLM\n",
    "    end\n",
    "\n",
    "    U ->> L: Let’s play this game: we had to answer questions together, but each of us could only say one word at a time. <br> That’s how we met our next challenge—Doctor Know-It-All. There are 4 participants, each of them says a word one by one. You are the fourth person. Understand?\n",
    "    L ->> U: Understood!\n",
    "\n",
    "    U ->> L: The topic is “What is the solution to world peace?\" We (3 persons) go first: I was supposed\n",
    "    L ->> U: to\n",
    "\n",
    "    U ->> L: do some warm\n",
    "    L ->> U: up\n",
    "\n",
    "    U ->> L: and cheerful stuff\n",
    "    L ->> U: before\n",
    "\n",
    "    U ->> L: everything goes wrong\n",
    "    L ->> U: and\n",
    "\n",
    "    U ->> L: express my own\n",
    "    L ->> U: thoughts\n",
    "\n",
    "    U ->> L: and appreciation to\n",
    "    L ->> U: everyone\n",
    "\n",
    "    U ->> L: that I loved.\n",
    "```"
   ]
  },
  {
   "cell_type": "markdown",
   "id": "a9fd1a0f-59b7-41e5-b0ab-d1babdcc6a85",
   "metadata": {},
   "source": [
    "When comparing the human-only version and the human+AI version of Doctor Know-It-All, the differences become clear. The human version: “I was supposed to do some warm and cheerful stuff and express my own appreciation to the ones that I loved”, read almost like a fluent and complete personal reflectioninfused with temperature inside. Conversely, when we look at the Ai-version, it sometimes producing awkward turns like “warm / up”, yet the sentence still manages to cohere in the end. LLM focuses on keeping the sequence grammatically plausible, even if the result feels mechanical or oddly stitched together while our humans mor focus on the whole sentence completeness and emotional depth."
   ]
  },
  {
   "cell_type": "markdown",
   "id": "f1f5b322-6b02-4395-83b9-314db7c48738",
   "metadata": {},
   "source": [
    "> If you want to try this little game with your friends or other LLM models, I’ve dropped all three of the questions we played with in class right here for you：\n",
    "\n",
    "![Photo is autorized by CIS 4190 indicators](improv_games.png)"
   ]
  },
  {
   "cell_type": "markdown",
   "id": "bebcb20d-3a7c-4377-977f-a65f6ca7b170",
   "metadata": {},
   "source": [
    "# Summary\n",
    "\n",
    "Through these three improv games, I realized that each pattern mirrors a different way we approach knowledge and creativity. And we cannot learning and research without any of them.\n",
    "\n",
    "With No, but… we see that endless refutation alone will not create anything; when we encounter something reasonable and useful, we should allow ideas to unfold and develop instead of blocking them. With Yes, and… we experience the strength of building on one another’s ideas, showing how imagination grows when possibilities are accepted. And Doctor Know-It-All reveals that even fragmented voices, whether human or machine, can come together to form meaning when connected, even somtimes not that perfect.\n",
    "\n",
    "In this way, the cycle of contradiction, cooperation, and collective senstense-making is not only a game of improv but also the rhythm of daily research and of human–AI collaboration itself. It is not about choosing one mode over another, but about discovering how they interact to create something greater than any of us alone..\n",
    "\n",
    "\n",
    "*In the end, world peace may not come from perfect speeches, but maybe from an oven that bakes unicorn hair brownies, built by both humans and AI.*\n"
   ]
  }
 ],
 "metadata": {
  "kernelspec": {
   "display_name": "Python 3-12 (COMM4190)",
   "language": "python",
   "name": "python3-12_comm4190"
  },
  "language_info": {
   "codemirror_mode": {
    "name": "ipython",
    "version": 3
   },
   "file_extension": ".py",
   "mimetype": "text/x-python",
   "name": "python",
   "nbconvert_exporter": "python",
   "pygments_lexer": "ipython3",
   "version": "3.12.11"
  }
 },
 "nbformat": 4,
 "nbformat_minor": 5
}
