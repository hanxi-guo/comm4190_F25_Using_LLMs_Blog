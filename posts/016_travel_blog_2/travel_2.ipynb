{
 "cells": [
  {
   "cell_type": "raw",
   "id": "3c4f7d43-0883-4a88-86f0-4aee5609d844",
   "metadata": {},
   "source": [
    "---\n",
    "title: \"What happens when AI handles your checkout?\"\n",
    "description: \"If your checkout screen suddenly spoke to you, would you feel safer, or more pressured?\" \n",
    "author: \"Hanxi\"\n",
    "date: \"10/13/2025\"\n",
    "categories:\n",
    "  - LLMs\n",
    "  - prompting\n",
    "  - reflection\n",
    "  - Psychology\n",
    "  - News\n",
    "draft: true\n",
    "---"
   ]
  },
  {
   "cell_type": "markdown",
   "id": "4bd52cfe-c4c5-4598-ad25-95d71130dd0a",
   "metadata": {},
   "source": [
    "10/13\n",
    "\n",
    "模型“传话游戏”（Drift / Convergence）\n",
    "\n",
    "问题：同一信息在 LLM 间多次转述，会出现概念漂移吗？\n",
    "变量：轮次（1/3/5）、模型种类（若能访问多模型更好）。\n",
    "步骤\n",
    "\n",
    "原始文本：你当天的 150 字观察。\n",
    "\n",
    "指令：A 总结→B 扩写→A 再总结→B 再推荐…\n",
    "\n",
    "比较首尾版本关键词与结论差异。\n",
    "指标：关键词留存率、结论一致性、事实误差累积。\n",
    "示例提示词\n",
    "\n",
    "\n"
   ]
  }
 ],
 "metadata": {
  "kernelspec": {
   "display_name": "Python 3-12 (COMM4190)",
   "language": "python",
   "name": "python3-12_comm4190"
  },
  "language_info": {
   "codemirror_mode": {
    "name": "ipython",
    "version": 3
   },
   "file_extension": ".py",
   "mimetype": "text/x-python",
   "name": "python",
   "nbconvert_exporter": "python",
   "pygments_lexer": "ipython3",
   "version": "3.12.11"
  }
 },
 "nbformat": 4,
 "nbformat_minor": 5
}
