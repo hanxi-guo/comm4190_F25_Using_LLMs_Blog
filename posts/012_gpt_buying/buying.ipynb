{
 "cells": [
  {
   "cell_type": "raw",
   "id": "29669591-aade-4852-8772-bee35d953d7c",
   "metadata": {},
   "source": [
    "---\n",
    "title: \"What happens when AI handles your checkout?\"\n",
    "description: \"If your checkout screen suddenly spoke to you, would you feel safer, or more pressured?\" \n",
    "author: \"Hanxi\"\n",
    "date: \"10/03/2025\"\n",
    "categories:\n",
    "  - LLMs\n",
    "  - prompting\n",
    "  - reflection\n",
    "  - Psychology\n",
    "  - News\n",
    "---"
   ]
  },
  {
   "cell_type": "markdown",
   "id": "89e677d8-c8e9-4c89-8e9c-58bae15d771c",
   "metadata": {},
   "source": []
  }
 ],
 "metadata": {
  "kernelspec": {
   "display_name": "Python 3-12 (COMM4190)",
   "language": "python",
   "name": "python3-12_comm4190"
  },
  "language_info": {
   "codemirror_mode": {
    "name": "ipython",
    "version": 3
   },
   "file_extension": ".py",
   "mimetype": "text/x-python",
   "name": "python",
   "nbconvert_exporter": "python",
   "pygments_lexer": "ipython3",
   "version": "3.12.11"
  }
 },
 "nbformat": 4,
 "nbformat_minor": 5
}
